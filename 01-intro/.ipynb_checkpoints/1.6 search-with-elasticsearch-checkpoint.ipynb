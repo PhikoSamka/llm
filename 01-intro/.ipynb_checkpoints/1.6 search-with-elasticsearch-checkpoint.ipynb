{
 "cells": [
  {
   "cell_type": "code",
   "execution_count": 1,
   "id": "bc0fc806-c37c-42d3-94fd-1592a218b053",
   "metadata": {},
   "outputs": [],
   "source": [
    "from mistralai import Mistral, UserMessage\n",
    "import os\n",
    "import json\n",
    "import wget\n",
    "import minsearch"
   ]
  },
  {
   "cell_type": "markdown",
   "id": "3880127d-a228-454a-9741-a245fb0250e9",
   "metadata": {},
   "source": [
    "# Replacing MinSearch with ElasticSearch for Scalable Search\n",
    "\n",
    "### 1. Why Replace MinSearch with ElasticSearch?\n",
    "MinSearch is a simple search solution:\n",
    "\n",
    "- It stores everything in RAM (memory).\n",
    "\n",
    "- It’s good for small projects and quick prototyping.\n",
    "\n",
    "- It cannot scale for large document collections or real-world applications.\n",
    "\n",
    "\n",
    "ElasticSearch, on the other hand:\n",
    "\n",
    "- Is a distributed, scalable search engine.\n",
    "\n",
    "- Stores data persistently on disk (doesn't lose data after shutdown).\n",
    "\n",
    "- Provides full-text search, advanced filtering, boosting, and more.\n",
    "\n",
    "- Is used in production environments at scale.\n",
    "\n",
    "👉 Goal: Migrate from MinSearch to ElasticSearch for better performance, scalability, and flexibility.\n",
    "\n",
    "### 2. How to Run ElasticSearch with Docker\n",
    "We will use Docker to quickly start ElasticSearch locally.\n",
    "\n",
    "```bash\n",
    "docker run -it \\\n",
    "    --rm \\\n",
    "    --name elasticsearch \\\n",
    "    -m 4GB \\\n",
    "    -p 9200:9200 \\\n",
    "    -p 9300:9300 \\\n",
    "    -e \"discovery.type=single-node\" \\\n",
    "    -e \"xpack.security.enabled=false\" \\\n",
    "    docker.elastic.co/elasticsearch/elasticsearch:8.4.3\n",
    "```\n",
    "\n",
    "#### Breakdown:\n",
    "- `-it`: Interactive mode to see logs.\n",
    "\n",
    "- `--rm`: Remove container when stopped.\n",
    "\n",
    "- `--name elasticsearch`: Name the container.\n",
    "\n",
    "- `-m 4GB`: Allocate enough memory (ElasticSearch needs at least 2–4 GB).\n",
    "\n",
    "- `-p 9200:9200`: HTTP communication (for queries).\n",
    "\n",
    "- `-p 9300:9300`: Transport communication (internal ES nodes, not used here).\n",
    "\n",
    "- `discovery.type=single-node`: Run as a standalone server.\n",
    "\n",
    "- `xpack.security.enabled=false`: Turn off username/password authentication (good for local testing).\n",
    "\n",
    "\n",
    "### 3. Indexing the Documents in ElasticSearch\n",
    "Now ElasticSearch is running. Next steps\n"
   ]
  },
  {
   "cell_type": "code",
   "execution_count": 2,
   "id": "dcacc1df-1e30-43b7-8e94-3475f66c174b",
   "metadata": {},
   "outputs": [],
   "source": [
    "# pip install elasticsearch \n",
    "#     or\n",
    "# pip install elasticsearch==8.11.0\n",
    "from elasticsearch import Elasticsearch"
   ]
  },
  {
   "cell_type": "code",
   "execution_count": 3,
   "id": "40f756ef-ea09-4e4f-b9d7-0dcf1ed9e13c",
   "metadata": {},
   "outputs": [
    {
     "data": {
      "text/plain": [
       "ObjectApiResponse({'name': '4599cffbb7e3', 'cluster_name': 'docker-cluster', 'cluster_uuid': 'og0eFxe5QqODoI5tdDeCIQ', 'version': {'number': '8.4.3', 'build_flavor': 'default', 'build_type': 'docker', 'build_hash': '42f05b9372a9a4a470db3b52817899b99a76ee73', 'build_date': '2022-10-04T07:17:24.662462378Z', 'build_snapshot': False, 'lucene_version': '9.3.0', 'minimum_wire_compatibility_version': '7.17.0', 'minimum_index_compatibility_version': '7.0.0'}, 'tagline': 'You Know, for Search'})"
      ]
     },
     "execution_count": 3,
     "metadata": {},
     "output_type": "execute_result"
    }
   ],
   "source": [
    "es = Elasticsearch('http://localhost:9200') # localhost can be replaced with url if deployed in the cloud\n",
    "es.info()"
   ]
  },
  {
   "cell_type": "markdown",
   "id": "3872ab03-498f-4f3e-9fb4-cc4544f0f7fb",
   "metadata": {},
   "source": [
    "### 3.2 Create an Index with Settings and Mappings\n",
    "An index in ElasticSearch is like a table in SQL — it defines how data is stored.\n",
    "\n",
    "Here’s the index definition:"
   ]
  },
  {
   "cell_type": "code",
   "execution_count": 4,
   "id": "c9b608f1-eaa5-448c-9e8e-ead4c4387605",
   "metadata": {},
   "outputs": [],
   "source": [
    "index_settings = {\n",
    "    \"settings\": {\n",
    "        \"number_of_shards\": 1,\n",
    "        \"number_of_replicas\": 0\n",
    "    },\n",
    "    \"mappings\": {\n",
    "        \"properties\": {\n",
    "            \"text\": {\"type\": \"text\"},\n",
    "            \"section\": {\"type\": \"text\"},\n",
    "            \"question\": {\"type\": \"text\"},\n",
    "            \"course\": {\"type\": \"keyword\"}\n",
    "        }\n",
    "    }\n",
    "}"
   ]
  },
  {
   "cell_type": "markdown",
   "id": "7e4157a2-1768-499d-abd2-8870140cad94",
   "metadata": {},
   "source": [
    "#### Explanation:\n",
    "\n",
    "- `number_of_shards`: 1: One shard (splitting not needed for small project).\n",
    "\n",
    "- `number_of_replicas`: 0: No replica needed locally.\n",
    "\n",
    "- `text`, `section`, `question` fields are text type (full-text searchable).\n",
    "\n",
    "- `course` field is a keyword (for exact matching, e.g., filtering by course)\n",
    "\n",
    "### 3.3 Create or Reset the Index"
   ]
  },
  {
   "cell_type": "code",
   "execution_count": 5,
   "id": "357af47e-f5ed-4830-ab60-f8a57d4ea885",
   "metadata": {},
   "outputs": [
    {
     "data": {
      "text/plain": [
       "ObjectApiResponse({'acknowledged': True, 'shards_acknowledged': True, 'index': 'course-questions'})"
      ]
     },
     "execution_count": 5,
     "metadata": {},
     "output_type": "execute_result"
    }
   ],
   "source": [
    "index_name = ('course-questions')\n",
    "\n",
    "if es.indices.exists(index=index_name):  \n",
    "    es.indices.delete(index=index_name) # Deletes old index if it already exists.\n",
    "\n",
    "es.indices.create(index=index_name, body=index_settings) #Creates a new clean index."
   ]
  },
  {
   "cell_type": "markdown",
   "id": "60d6a0e9-a384-4a31-b89f-4051ba72f99d",
   "metadata": {},
   "source": [
    "##  📚 Why Do We Have Indexes in ElasticSearch?\n",
    "\n",
    "In **ElasticSearch** (and in general search engines and databases), an **index** is **essential** because:\n",
    "\n",
    "| Reason | Explanation |\n",
    "|:---|:---|\n",
    "| **Fast Search** | Searching raw documents one by one would be **too slow**, especially with millions of records. Indexes **organize** the data smartly for **fast retrieval**. |\n",
    "| **Efficient Storage** | Indexes store **only the important parts** (like tokenized words and IDs), reducing what ElasticSearch needs to look at during search. |\n",
    "| **Ranking and Scoring** | Indexes allow ElasticSearch to calculate **relevance scores** (e.g., BM25, TF-IDF) quickly, deciding which documents match best. |\n",
    "| **Filtering and Aggregation** | Without indexes, advanced features like **filters** (e.g., course = \"data-engineering-zoomcamp\") and **analytics** would be much slower or impossible. |\n",
    "| **Distributed Search** | In ElasticSearch, an index can be **split into shards**, allowing **parallel search** across multiple servers — making huge datasets searchable in seconds. |\n",
    "\n",
    "---\n",
    "\n",
    "# 🧠 Think of it like this:\n",
    "\n",
    "- **Without an index** → You search for a book by **reading every page of every book** one by one. 🐢\n",
    "- **With an index** → You first check the **library catalog**, find the exact shelf, and jump directly to the book and page. 🚀\n",
    "\n",
    "---\n",
    "\n",
    "# 🔥 How ElasticSearch Builds Indexes\n",
    "\n",
    "When you add a document:\n",
    "1. ElasticSearch **tokenizes** the text (splits into words, lowercases, removes stopwords, etc.).\n",
    "2. It builds an **inverted index** — like a giant map:\n",
    "   - For every **word**, it stores a list of **document IDs** where the word appears.\n",
    "   \n",
    "Example (tiny version):\n",
    "\n",
    "| Word | Document IDs |\n",
    "|:---|:---|\n",
    "| docker | [doc1, doc2] |\n",
    "| container | [doc1] |\n",
    "| system | [doc1, doc3] |\n",
    "\n",
    "✅ So if you search for \"docker system\", ElasticSearch **instantly** knows which documents to fetch.\n",
    "\n",
    "---\n",
    "\n",
    "# 🛠️ In ElasticSearch, an \"Index\" contains:\n",
    "\n",
    "- Documents (actual data)\n",
    "- Inverted index (token-to-doc lookup)\n",
    "- Metadata (shards, mappings, settings)\n",
    "\n",
    "And an Index can be **further split into Shards** to allow **horizontal scaling** across machines!\n",
    "\n",
    "---\n",
    "\n",
    "# 📌 TL;DR\n",
    "\n",
    "✅ **Indexes** make search **fast, efficient, and scalable**.  \n",
    "✅ Without indexes, ElasticSearch would be **useless for large datasets**.  \n",
    "✅ **Everything** — full-text search, filters, scoring — is **built on top of indexes**.\n",
    "\n",
    "---\n",
    "\n"
   ]
  },
  {
   "cell_type": "code",
   "execution_count": 6,
   "id": "813e2ad3-a1f3-4364-9a9a-e400dabe4ade",
   "metadata": {},
   "outputs": [],
   "source": [
    "# Opening the document \n",
    "with open('documents.json', 'rt') as f_in:\n",
    "    docs_raw = json.load(f_in)"
   ]
  },
  {
   "cell_type": "code",
   "execution_count": 7,
   "id": "b38691cb-7d9f-4a43-ab10-8e1019d1ceb4",
   "metadata": {},
   "outputs": [
    {
     "data": {
      "text/plain": [
       "{'text': \"The purpose of this document is to capture frequently asked technical questions\\nThe exact day and hour of the course will be 15th Jan 2024 at 17h00. The course will start with the first  “Office Hours'' live.1\\nSubscribe to course public Google Calendar (it works from Desktop only).\\nRegister before the course starts using this link.\\nJoin the course Telegram channel with announcements.\\nDon’t forget to register in DataTalks.Club's Slack and join the channel.\",\n",
       " 'section': 'General course-related questions',\n",
       " 'question': 'Course - When will the course start?',\n",
       " 'course': 'data-engineering-zoomcamp'}"
      ]
     },
     "execution_count": 7,
     "metadata": {},
     "output_type": "execute_result"
    }
   ],
   "source": [
    "# Initialize an empty list to store all documents\n",
    "documents = []\n",
    "\n",
    "# Loop over each course dictionary in the raw documents\n",
    "for course_dict in docs_raw:\n",
    "    # Inside each course_dict, there is a list of documents under the key 'documents'\n",
    "    for doc in course_dict['documents']:\n",
    "        # Add the course name to each individual document\n",
    "        # This helps us later filter or search by course in ElasticSearch\n",
    "        doc['course'] = course_dict['course']\n",
    "        \n",
    "        # Append the modified document to the final documents list\n",
    "        documents.append(doc)\n",
    "documents [0]"
   ]
  },
  {
   "cell_type": "markdown",
   "id": "8f0f9bee-73a6-44f4-a26e-b2124d030845",
   "metadata": {},
   "source": [
    "### Quick Summary: ElasticSearch Document Structure\n",
    "\n",
    "#### 1. Example Document\n",
    "\n",
    "```python\n",
    "{\n",
    "    'text': \"...\",         # Main body content\n",
    "    'section': \"...\",      # Section label\n",
    "    'question': \"...\",     # Specific FAQ-style question\n",
    "    'course': \"...\"        # Course name (e.g., data-engineering-zoomcamp)\n",
    "}\n",
    "```\n",
    "#### 2. Key Points\n",
    "\n",
    "Documents have 4 fields: text, section, question, course.\n",
    "\n",
    "Index name (e.g., course-question) is separate — it's not inside the document.\n",
    "\n",
    "Documents are stored inside an index.\n",
    "\n",
    "```\n",
    "Index: course-question\n",
    "|\n",
    "|-- Document 0: {text, section, question, course}\n",
    "|-- Document 1: {text, section, question, course}\n",
    "|-- Document 2: {text, section, question, course}\n",
    "|-- ...\n",
    "```"
   ]
  },
  {
   "cell_type": "code",
   "execution_count": 8,
   "id": "3af02ad6-11a8-4134-93ea-f72a6adc1096",
   "metadata": {},
   "outputs": [],
   "source": [
    "from tqdm.notebook import tqdm"
   ]
  },
  {
   "cell_type": "code",
   "execution_count": 9,
   "id": "509361b0-4950-4815-b55f-4d7790bff937",
   "metadata": {},
   "outputs": [
    {
     "data": {
      "application/vnd.jupyter.widget-view+json": {
       "model_id": "db7d992b210b49749b969cb1a6ce0fd3",
       "version_major": 2,
       "version_minor": 0
      },
      "text/plain": [
       "  0%|          | 0/948 [00:00<?, ?it/s]"
      ]
     },
     "metadata": {},
     "output_type": "display_data"
    }
   ],
   "source": [
    "for doc in tqdm(documents):\n",
    "    es.index(index=index_name, document=doc)"
   ]
  },
  {
   "cell_type": "code",
   "execution_count": 10,
   "id": "537738d0-35b5-4065-9b02-f732d779c0f5",
   "metadata": {},
   "outputs": [],
   "source": [
    "def search_elasticsearch(query):\n",
    "    search_query = {\n",
    "        \"size\": 5,\n",
    "        \"query\": {\n",
    "            \"bool\": {\n",
    "                \"must\": {\n",
    "                    \"multi_match\": {\n",
    "                        \"query\": query,\n",
    "                        \"fields\": [\"question^3\", \"text\", \"section\"],\n",
    "                        \"type\": \"best_fields\"\n",
    "                    }\n",
    "                },\n",
    "                \"filter\": {\n",
    "                    \"term\": {\n",
    "                        \"course\": \"data-engineering-zoomcamp\"\n",
    "                    }\n",
    "                }\n",
    "            }\n",
    "        }\n",
    "    }\n",
    "    \n",
    "    response = es.search(index=index_name, body=search_query)\n",
    "    \n",
    "    hits = response[\"hits\"][\"hits\"]\n",
    "    result_docs = [hit[\"_source\"] for hit in hits]\n",
    "    \n",
    "    return result_docs\n"
   ]
  },
  {
   "cell_type": "code",
   "execution_count": 11,
   "id": "ae028119-d425-4f30-b57b-1cfad629eea7",
   "metadata": {},
   "outputs": [
    {
     "data": {
      "text/plain": [
       "[{'text': \"Yes, even if you don't register, you're still eligible to submit the homeworks.\\nBe aware, however, that there will be deadlines for turning in the final projects. So don't leave everything for the last minute.\",\n",
       "  'section': 'General course-related questions',\n",
       "  'question': 'Course - Can I still join the course after the start date?',\n",
       "  'course': 'data-engineering-zoomcamp'},\n",
       " {'text': 'You can start by installing and setting up all the dependencies and requirements:\\nGoogle cloud account\\nGoogle Cloud SDK\\nPython 3 (installed with Anaconda)\\nTerraform\\nGit\\nLook over the prerequisites and syllabus to see if you are comfortable with these subjects.',\n",
       "  'section': 'General course-related questions',\n",
       "  'question': 'Course - What can I do before the course starts?',\n",
       "  'course': 'data-engineering-zoomcamp'},\n",
       " {'text': 'Yes, we will keep all the materials after the course finishes, so you can follow the course at your own pace after it finishes.\\nYou can also continue looking at the homeworks and continue preparing for the next cohort. I guess you can also start working on your final capstone project.',\n",
       "  'section': 'General course-related questions',\n",
       "  'question': 'Course - Can I follow the course after it finishes?',\n",
       "  'course': 'data-engineering-zoomcamp'},\n",
       " {'text': 'Yes, the slack channel remains open and you can ask questions there. But always sDocker containers exit code w search the channel first and second, check the FAQ (this document), most likely all your questions are already answered here.\\nYou can also tag the bot @ZoomcampQABot to help you conduct the search, but don’t rely on its answers 100%, it is pretty good though.',\n",
       "  'section': 'General course-related questions',\n",
       "  'question': 'Course - Can I get support if I take the course in the self-paced mode?',\n",
       "  'course': 'data-engineering-zoomcamp'},\n",
       " {'text': \"You don't need it. You're accepted. You can also just start learning and submitting homework without registering. It is not checked against any registered list. Registration is just to gauge interest before the start date.\",\n",
       "  'section': 'General course-related questions',\n",
       "  'question': 'Course - I have registered for the Data Engineering Bootcamp. When can I expect to receive the confirmation email?',\n",
       "  'course': 'data-engineering-zoomcamp'}]"
      ]
     },
     "execution_count": 11,
     "metadata": {},
     "output_type": "execute_result"
    }
   ],
   "source": [
    "search_elasticsearch('can i still join the course')"
   ]
  },
  {
   "cell_type": "markdown",
   "id": "64163d2c-ec5a-433d-a5cb-7df3f67af5dc",
   "metadata": {},
   "source": [
    "## Query Explanation:\n",
    "\n",
    "| Part                             | Purpose                                                           |\n",
    "|----------------------------------|-------------------------------------------------------------------|\n",
    "| **size: 5**                      | Return only the top 5 best results                                |\n",
    "| **multi_match**                  | Search across multiple fields at once                             |\n",
    "| **fields: [\"question^3\", \"text\", \"section\"]** | Search in `question`, `text`, and `section`, and boost the `question` field (multiply by 3 importance) |\n",
    "| **type: best_fields**            | Score by the field with the best match                            |\n",
    "| **filter: term (course)**        | Only include documents that belong to the specific course        |\n",
    "\n",
    "---\n",
    "\n",
    "## Why `best_fields`?\n",
    "\n",
    "ElasticSearch offers different `multi_match` types:\n",
    "\n",
    "| Type            | Description                                                    |\n",
    "|-----------------|---------------------------------------------------------------|\n",
    "| **best_fields** | (✅ What we use) — returns documents with the highest score from any one field. |\n",
    "| **most_fields** | Combines matches from multiple fields.                        |\n",
    "| **cross_fields**| Treats multiple fields as one big field.                      |\n",
    "\n",
    "You can read more about these in the official [ElasticSearch Multi-Match documentation](https://www.elastic.co/guide/en/elasticsearch/reference/current/query-dsl-multi-match-query.html) (recommended).\n",
    "\n",
    "---\n",
    "\n",
    "## 5. Summary: End-to-End Pipeline\n",
    "\n",
    "- ✅ ElasticSearch runs locally using Docker.\n",
    "- ✅ Indexes are created with correct mappings.\n",
    "- ✅ Documents are uploaded (indexed).\n",
    "- ✅ Full-text search across `question`, `text`, `section`.\n",
    "- ✅ Filtered by `course`.\n",
    "- ✅ Only top 5 best-matching documents are returned.\n",
    "\n",
    "---\n",
    "\n",
    "## 6. Quick Comparison: MinSearch vs ElasticSearch\n",
    "\n",
    "| Feature               | **MinSearch**        | **ElasticSearch**       |\n",
    "|-----------------------|----------------------|-------------------------|\n",
    "| **Storage**           | Only in memory (RAM) | Persistent on disk      |\n",
    "| **Scale**             | Small, prototype-level | Production, scales to millions of docs |\n",
    "| **Search Types**      | Basic only           | Full-text, filters, boosting, aggregations |\n",
    "| **Authentication**    | No                   | Supported (optional)    |\n",
    "| **Deployment**        | Local scripts        | Local, cloud, clusters  |\n"
   ]
  },
  {
   "cell_type": "code",
   "execution_count": 15,
   "id": "aeef46e0-c194-463a-a31a-b302ca3c622d",
   "metadata": {},
   "outputs": [],
   "source": [
    "client = Mistral(api_key=API_KEY)\n",
    "\n",
    "def build_prompt(query, search_results):\n",
    "    prompt_template = \"\"\"\n",
    "    You're a course teaching assistant. Answer the QUESTION based on the CONTEXT from the FAQ database.\n",
    "    Use only the facts from the CONTEXT when answering the QUESTION.\n",
    "\n",
    "    QUESTION: {question}\n",
    "\n",
    "    CONTEXT: \n",
    "    {context}\n",
    "    \"\"\".strip()\n",
    "\n",
    "    context = \"\"\n",
    "    for doc in search_results:\n",
    "        context += f\"section: {doc['section']}\\nquestion: {doc['question']}\\nanswer: {doc['text']}\\n\\n\"\n",
    "\n",
    "    prompt = prompt_template.format(question=query, context=context).strip()\n",
    "    return prompt\n",
    "\n",
    "\n",
    "def llm(prompt):\n",
    "    response = client.chat.complete(\n",
    "        model='open-mistral-7b',\n",
    "        messages=[UserMessage(content=prompt)]\n",
    "        )\n",
    "    return response.choices[0].message.content\n",
    "\n",
    "\n",
    "def rag(query):\n",
    "    search_results = search_elasticsearch(query)\n",
    "    prompt = build_prompt(query, search_results)\n",
    "    answer = llm(prompt)\n",
    "    return print(answer)"
   ]
  },
  {
   "cell_type": "code",
   "execution_count": 16,
   "id": "f3a55de0-e8e0-47a3-ac62-f5c244690352",
   "metadata": {},
   "outputs": [
    {
     "name": "stdout",
     "output_type": "stream",
     "text": [
      "Based on the provided context, the course modules are not explicitly mentioned. However, it is mentioned that the course starts on January 15, 2024, and the first module seems to be related to Docker and Terraform as there is a section titled \"Module 1: Docker and Terraform\" in the FAQ database. The rest of the sections appear to cover course-related questions such as prerequisites, data, homework deadlines, and the start date of the course. For more detailed information about the course modules, it might be best to refer to the course syllabus or the course instructor directly.\n"
     ]
    }
   ],
   "source": [
    "query = \"What are the modules will we complete?\"\n",
    "rag(query)"
   ]
  },
  {
   "cell_type": "markdown",
   "id": "7df17432-de59-49e3-8e61-ba033b92ef0a",
   "metadata": {},
   "source": [
    "### What's happening?\n",
    "1. ElasticSearch search:\n",
    "\n",
    "       - `search_elasticsearch(query)` returns **5 top matching documents** based on their relevance score.\n",
    "\n",
    "       - These 5 documents are not answers yet — **they are pieces of information** (sections, questions, text).\n",
    "\n",
    "3. `build_prompt` function:\n",
    "\n",
    "    - It combines the 5 documents into one big CONTEXT string.\n",
    "\n",
    "    - It writes them like:\n",
    "  \n",
    "    ```\n",
    "        section: ...\n",
    "        question: ...\n",
    "        answer: ...\n",
    "    ```\n",
    "    - Then it attaches your original user QUESTION on top.\n",
    "\n",
    "    - The final prompt looks like:\n",
    "  \n",
    "      ```\n",
    "      You're a course assistant.\n",
    "            QUESTION: (your question)\n",
    "            CONTEXT:\n",
    "            (5 documents combined here)\n",
    "        ```\n",
    "3. `llm(prompt)`:\n",
    "\n",
    "    - This entire prompt (your question + 5 documents) is sent to the LLM (e.g., Mistral 7B).\n",
    "\n",
    "    - The LLM reads everything and generates ONE final answer based on the context you provided.\n",
    "  \n",
    "\n",
    "```\n",
    "User query ---> ElasticSearch ---> Top 5 docs\n",
    "                   |\n",
    "                   v\n",
    "          build_prompt(query, docs)\n",
    "                   |\n",
    "                   v\n",
    "              big prompt\n",
    "                   |\n",
    "                   v\n",
    "                 LLM\n",
    "                   |\n",
    "                   v\n",
    "             One final answer\n",
    "```\n",
    "\n",
    "### Why only one final answer?\n",
    "Because the LLM is doing the reasoning.\n",
    "It reads the context (5 docs) and writes one summarized, best answer based on everything it read.\n",
    "\n",
    "ElasticSearch just helps you fetch relevant information.\n",
    "LLM is responsible for reading, thinking, and answering."
   ]
  },
  {
   "cell_type": "code",
   "execution_count": null,
   "id": "99c839d3-1c51-4e11-ae68-4454ddccf009",
   "metadata": {},
   "outputs": [],
   "source": []
  },
  {
   "cell_type": "code",
   "execution_count": null,
   "id": "2f17d32f-8ebe-4b8d-be95-007d3072888c",
   "metadata": {},
   "outputs": [],
   "source": []
  },
  {
   "cell_type": "code",
   "execution_count": null,
   "id": "d2c661ee-87ae-41bc-a032-c679ad6b8c38",
   "metadata": {},
   "outputs": [],
   "source": []
  },
  {
   "cell_type": "code",
   "execution_count": null,
   "id": "db7ba680-b364-411a-bc03-1c0c4c9f859d",
   "metadata": {},
   "outputs": [],
   "source": []
  },
  {
   "cell_type": "code",
   "execution_count": null,
   "id": "d49b2215-707a-4834-a243-734a409e6cba",
   "metadata": {},
   "outputs": [],
   "source": []
  },
  {
   "cell_type": "code",
   "execution_count": null,
   "id": "4d71548d-0df2-42dd-b331-f017fedb874c",
   "metadata": {},
   "outputs": [],
   "source": []
  },
  {
   "cell_type": "code",
   "execution_count": null,
   "id": "692b2951-33c5-4aed-8e42-546d41219571",
   "metadata": {},
   "outputs": [],
   "source": []
  },
  {
   "cell_type": "code",
   "execution_count": null,
   "id": "abf786ea-74f3-47c0-8080-c4752ed73e1c",
   "metadata": {},
   "outputs": [],
   "source": []
  }
 ],
 "metadata": {
  "kernelspec": {
   "display_name": "Python 3 (ipykernel)",
   "language": "python",
   "name": "python3"
  },
  "language_info": {
   "codemirror_mode": {
    "name": "ipython",
    "version": 3
   },
   "file_extension": ".py",
   "mimetype": "text/x-python",
   "name": "python",
   "nbconvert_exporter": "python",
   "pygments_lexer": "ipython3",
   "version": "3.12.7"
  }
 },
 "nbformat": 4,
 "nbformat_minor": 5
}
